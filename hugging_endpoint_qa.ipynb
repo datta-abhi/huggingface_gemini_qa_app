{
 "cells": [
  {
   "cell_type": "markdown",
   "id": "414bea3f-8d96-4d3e-889e-1b9c0c406d8b",
   "metadata": {},
   "source": [
    "## HuggingFace endpoint for Question Answers"
   ]
  },
  {
   "cell_type": "code",
   "execution_count": 1,
   "id": "1a0f6918-9319-4554-b81d-3d903e21fe9e",
   "metadata": {},
   "outputs": [],
   "source": [
    "r"
   ]
  },
  {
   "cell_type": "code",
   "execution_count": 2,
   "id": "0c10563d-9e13-415d-830c-fa51af73138e",
   "metadata": {},
   "outputs": [
    {
     "name": "stdin",
     "output_type": "stream",
     "text": [
      " ········\n"
     ]
    }
   ],
   "source": [
    "# enter your access keys here\n",
    "\n",
    "from getpass import getpass\n",
    "\n",
    "HUGGINGFACEHUB_API_TOKEN = getpass()"
   ]
  },
  {
   "cell_type": "code",
   "execution_count": 3,
   "id": "f306ebcc-99c7-4a63-8bc1-21582785ce01",
   "metadata": {},
   "outputs": [],
   "source": [
    "import os\n",
    "\n",
    "os.environ[\"HUGGINGFACEHUB_API_TOKEN\"] = HUGGINGFACEHUB_API_TOKEN"
   ]
  },
  {
   "cell_type": "code",
   "execution_count": 4,
   "id": "a5e4fb1c-f3cf-4da6-9d20-a7548bff9242",
   "metadata": {},
   "outputs": [
    {
     "name": "stderr",
     "output_type": "stream",
     "text": [
      "C:\\Users\\abhid\\anaconda3\\envs\\langenv\\lib\\site-packages\\langchain_core\\_api\\deprecation.py:119: LangChainDeprecationWarning: The class `HuggingFaceEndpoint` was deprecated in LangChain 0.0.37 and will be removed in 0.3. An updated version of the class exists in the from langchain-huggingface package and should be used instead. To use it run `pip install -U from langchain-huggingface` and import as `from from langchain_huggingface import llms import HuggingFaceEndpoint`.\n",
      "  warn_deprecated(\n",
      "C:\\Users\\abhid\\anaconda3\\envs\\langenv\\lib\\site-packages\\tqdm\\auto.py:21: TqdmWarning: IProgress not found. Please update jupyter and ipywidgets. See https://ipywidgets.readthedocs.io/en/stable/user_install.html\n",
      "  from .autonotebook import tqdm as notebook_tqdm\n"
     ]
    },
    {
     "name": "stdout",
     "output_type": "stream",
     "text": [
      "The token has not been saved to the git credentials helper. Pass `add_to_git_credential=True` in this function directly or `--add-to-git-credential` if using via `huggingface-cli` if you want to set the git credential as well.\n",
      "Token is valid (permission: read).\n",
      "Your token has been saved to C:\\Users\\abhid\\.cache\\huggingface\\token\n",
      "Login successful\n"
     ]
    }
   ],
   "source": [
    "# loading inference endpoint for any model\n",
    "repo_id = \"mistralai/Mistral-7B-Instruct-v0.2\"\n",
    "\n",
    "llm = HuggingFaceEndpoint(repo_id=repo_id)"
   ]
  },
  {
   "cell_type": "code",
   "execution_count": 5,
   "id": "a0e6ab0b-7ac8-4dda-b044-4e7597d3e833",
   "metadata": {},
   "outputs": [
    {
     "name": "stdout",
     "output_type": "stream",
     "text": [
      "\n",
      "\n",
      "Freud (1856-1939) is considered the father of psychoanalysis. He introduced several fundamental concepts, including the unconscious mind, dream analysis, the Oedipus complex, and the psycho-sexual stages of development. He believed that early childhood experiences, especially those related to sexuality and the family, shape personality and behavior. Freud's theories were often controversial and provocative, and his methods, which included free association and the use of dreams, were groundbreaking. His work has had a profound impact on psychology, psychiatry, and Western culture as a whole. Freud's most famous works include \"The Interpretation of Dreams,\" \"Three Essays on Sexuality,\" and \"Civilization and Its Discontents.\"\n"
     ]
    }
   ],
   "source": [
    "# The LLM takes a prompt as an input and outputs a completion\n",
    "our_query = \"Describe Freud's work in short\"\n",
    "\n",
    "#Last week langchain has recommended to use invoke function for the below please :)\n",
    "completion = llm.invoke(our_query)\n",
    "print(completion)"
   ]
  },
  {
   "cell_type": "markdown",
   "id": "2f3dd9c9-e4e1-40f8-8d9b-3385e903e901",
   "metadata": {},
   "source": [
    "## Gemini Pro for QA"
   ]
  },
  {
   "cell_type": "code",
   "execution_count": 6,
   "id": "805cece0-7d80-4d1e-933f-f31293902858",
   "metadata": {},
   "outputs": [
    {
     "name": "stdin",
     "output_type": "stream",
     "text": [
      " ········\n"
     ]
    }
   ],
   "source": [
    "# enter your access keys here\n",
    "\n",
    "from getpass import getpass\n",
    "\n",
    "GEMINI_API_TOKEN = getpass()\n",
    "\n",
    "import os\n",
    "os.environ[\"GOOGLE_API_KEY\"] = GEMINI_API_TOKEN"
   ]
  },
  {
   "cell_type": "code",
   "execution_count": 13,
   "id": "cc3997fc-0348-4255-b711-af4d9c1f6fd5",
   "metadata": {},
   "outputs": [],
   "source": [
    "# We can access Google AI’s gemini and gemini-vision models, as well as other generative models \n",
    "# through ChatGoogleGenerativeAI class in the langchain-google-genai integration package.\n",
    "\n",
    "from langchain_google_genai import ChatGoogleGenerativeAI\n",
    "llm = ChatGoogleGenerativeAI(model=\"gemini-pro\")"
   ]
  },
  {
   "cell_type": "code",
   "execution_count": 14,
   "id": "2fa6a5bd-c21f-455e-bddb-ea580a53057a",
   "metadata": {},
   "outputs": [
    {
     "name": "stdout",
     "output_type": "stream",
     "text": [
      "content='**Sigmund Freud (1856-1939)**\\n\\n**Key Contributions to Psychology:**\\n\\n**Psychoanalysis:**\\n- Developed a comprehensive theory of the human mind, emphasizing the role of unconscious processes.\\n- Believed that childhood experiences shape personality and behavior.\\n\\n**Unconscious Mind:**\\n- Recognized the existence of an unconscious realm containing thoughts, feelings, and memories that are inaccessible to conscious awareness.\\n- Proposed that unconscious conflicts drive much of human behavior.\\n\\n**Psychosexual Stages:**\\n- Formulated a theory of psychosexual development, with five stages (oral, anal, phallic, latency, genital) that influence personality traits.\\n\\n**Defense Mechanisms:**\\n- Identified defense mechanisms, such as repression, sublimation, and projection, that the ego uses to protect itself from anxiety and conflict.\\n\\n**Dream Analysis:**\\n- Believed that dreams provide insights into unconscious thoughts and desires.\\n- Developed techniques for interpreting dream symbols.\\n\\n**Free Association:**\\n- A therapeutic technique where patients say whatever comes to mind, allowing unconscious thoughts to emerge.\\n\\n**Influence on Psychology:**\\n- Revolutionized the field of psychology, profoundly shaping our understanding of the human mind and behavior.\\n- His theories continue to be influential in clinical practice, research, and popular culture.' response_metadata={'prompt_feedback': {'block_reason': 0, 'safety_ratings': []}, 'finish_reason': 'STOP', 'safety_ratings': [{'category': 'HARM_CATEGORY_SEXUALLY_EXPLICIT', 'probability': 'NEGLIGIBLE', 'blocked': False}, {'category': 'HARM_CATEGORY_HATE_SPEECH', 'probability': 'NEGLIGIBLE', 'blocked': False}, {'category': 'HARM_CATEGORY_HARASSMENT', 'probability': 'NEGLIGIBLE', 'blocked': False}, {'category': 'HARM_CATEGORY_DANGEROUS_CONTENT', 'probability': 'NEGLIGIBLE', 'blocked': False}]} id='run-8160519e-fefe-4e96-92eb-b8a270b6e453-0'\n"
     ]
    }
   ],
   "source": [
    "our_query = \"Desrcibe Freud's work in short\"\n",
    "\n",
    "result = llm.invoke(our_query)\n"
   ]
  },
  {
   "cell_type": "code",
   "execution_count": 15,
   "id": "bd744628-de4c-4730-84c7-c2924785639e",
   "metadata": {},
   "outputs": [
    {
     "name": "stdout",
     "output_type": "stream",
     "text": [
      "**Sigmund Freud (1856-1939)**\n",
      "\n",
      "**Key Contributions to Psychology:**\n",
      "\n",
      "**Psychoanalysis:**\n",
      "- Developed a comprehensive theory of the human mind, emphasizing the role of unconscious processes.\n",
      "- Believed that childhood experiences shape personality and behavior.\n",
      "\n",
      "**Unconscious Mind:**\n",
      "- Recognized the existence of an unconscious realm containing thoughts, feelings, and memories that are inaccessible to conscious awareness.\n",
      "- Proposed that unconscious conflicts drive much of human behavior.\n",
      "\n",
      "**Psychosexual Stages:**\n",
      "- Formulated a theory of psychosexual development, with five stages (oral, anal, phallic, latency, genital) that influence personality traits.\n",
      "\n",
      "**Defense Mechanisms:**\n",
      "- Identified defense mechanisms, such as repression, sublimation, and projection, that the ego uses to protect itself from anxiety and conflict.\n",
      "\n",
      "**Dream Analysis:**\n",
      "- Believed that dreams provide insights into unconscious thoughts and desires.\n",
      "- Developed techniques for interpreting dream symbols.\n",
      "\n",
      "**Free Association:**\n",
      "- A therapeutic technique where patients say whatever comes to mind, allowing unconscious thoughts to emerge.\n",
      "\n",
      "**Influence on Psychology:**\n",
      "- Revolutionized the field of psychology, profoundly shaping our understanding of the human mind and behavior.\n",
      "- His theories continue to be influential in clinical practice, research, and popular culture.\n"
     ]
    }
   ],
   "source": [
    "print(result.content)"
   ]
  },
  {
   "cell_type": "code",
   "execution_count": 1,
   "id": "6bc8ac78-d954-4b22-b4d4-b8a51bb9b1c3",
   "metadata": {},
   "outputs": [
    {
     "name": "stdout",
     "output_type": "stream",
     "text": [
      "Package                      Version\n",
      "---------------------------- -----------\n",
      "absl-py                      2.1.0\n",
      "aiohttp                      3.9.5\n",
      "aiosignal                    1.2.0\n",
      "altair                       5.1.2\n",
      "annotated-types              0.7.0\n",
      "anyio                        4.2.0\n",
      "argon2-cffi                  21.3.0\n",
      "argon2-cffi-bindings         21.2.0\n",
      "asttokens                    2.0.5\n",
      "astunparse                   1.6.3\n",
      "async-lru                    2.0.4\n",
      "async-timeout                4.0.3\n",
      "attrs                        23.1.0\n",
      "Babel                        2.11.0\n",
      "beautifulsoup4               4.12.2\n",
      "bleach                       4.1.0\n",
      "blinker                      1.6.2\n",
      "Bottleneck                   1.3.7\n",
      "Brotli                       1.0.9\n",
      "cachetools                   5.3.1\n",
      "certifi                      2023.7.22\n",
      "cffi                         1.16.0\n",
      "charset-normalizer           3.3.0\n",
      "click                        8.1.7\n",
      "colorama                     0.4.6\n",
      "comm                         0.2.1\n",
      "cryptography                 41.0.3\n",
      "dataclasses-json             0.6.6\n",
      "datasets                     2.12.0\n",
      "debugpy                      1.6.7\n",
      "decorator                    5.1.1\n",
      "defusedxml                   0.7.1\n",
      "dill                         0.3.6\n",
      "exceptiongroup               1.2.0\n",
      "executing                    0.8.3\n",
      "fastjsonschema               2.16.2\n",
      "filelock                     3.13.1\n",
      "flatbuffers                  2.0\n",
      "frozenlist                   1.4.0\n",
      "fsspec                       2024.3.1\n",
      "gast                         0.4.0\n",
      "gitdb                        4.0.10\n",
      "GitPython                    3.1.37\n",
      "google-ai-generativelanguage 0.6.4\n",
      "google-api-core              2.19.0\n",
      "google-api-python-client     2.130.0\n",
      "google-auth                  2.29.0\n",
      "google-auth-httplib2         0.2.0\n",
      "google-auth-oauthlib         0.4.4\n",
      "google-generativeai          0.5.4\n",
      "google-pasta                 0.2.0\n",
      "googleapis-common-protos     1.63.0\n",
      "greenlet                     3.0.3\n",
      "grpcio                       1.64.0\n",
      "grpcio-status                1.62.2\n",
      "h5py                         3.11.0\n",
      "httplib2                     0.22.0\n",
      "huggingface_hub              0.23.1\n",
      "idna                         3.4\n",
      "importlib-metadata           6.8.0\n",
      "ipykernel                    6.28.0\n",
      "ipython                      8.20.0\n",
      "jedi                         0.18.1\n",
      "Jinja2                       3.1.2\n",
      "json5                        0.9.6\n",
      "jsonpatch                    1.33\n",
      "jsonpointer                  2.4\n",
      "jsonschema                   4.19.1\n",
      "jsonschema-specifications    2023.7.1\n",
      "jupyter_client               8.6.0\n",
      "jupyter_core                 5.5.0\n",
      "jupyter-events               0.8.0\n",
      "jupyter-lsp                  2.2.0\n",
      "jupyter_server               2.10.0\n",
      "jupyter_server_terminals     0.4.4\n",
      "jupyterlab                   4.0.11\n",
      "jupyterlab-pygments          0.1.2\n",
      "jupyterlab_server            2.25.1\n",
      "keras                        2.10.0\n",
      "Keras-Preprocessing          1.1.2\n",
      "langchain                    0.2.1\n",
      "langchain-community          0.2.1\n",
      "langchain-core               0.2.1\n",
      "langchain-google-genai       1.0.5\n",
      "langchain-text-splitters     0.2.0\n",
      "langsmith                    0.1.63\n",
      "Markdown                     3.4.1\n",
      "markdown-it-py               3.0.0\n",
      "MarkupSafe                   2.1.3\n",
      "marshmallow                  3.21.2\n",
      "matplotlib-inline            0.1.6\n",
      "mdurl                        0.1.2\n",
      "mistune                      2.0.4\n",
      "mkl-fft                      1.3.8\n",
      "mkl-random                   1.2.4\n",
      "mkl-service                  2.4.0\n",
      "multidict                    6.0.4\n",
      "multiprocess                 0.70.14\n",
      "mypy-extensions              1.0.0\n",
      "nbclient                     0.8.0\n",
      "nbconvert                    7.10.0\n",
      "nbformat                     5.9.2\n",
      "nest-asyncio                 1.6.0\n",
      "notebook                     7.0.8\n",
      "notebook_shim                0.2.3\n",
      "numexpr                      2.8.7\n",
      "numpy                        1.26.4\n",
      "oauthlib                     3.2.2\n",
      "opt-einsum                   3.3.0\n",
      "orjson                       3.10.3\n",
      "overrides                    7.4.0\n",
      "packaging                    23.2\n",
      "pandas                       2.1.1\n",
      "pandocfilters                1.5.0\n",
      "parso                        0.8.3\n",
      "Pillow                       10.0.1\n",
      "pip                          24.0\n",
      "platformdirs                 3.10.0\n",
      "prometheus-client            0.14.1\n",
      "prompt-toolkit               3.0.43\n",
      "proto-plus                   1.23.0\n",
      "protobuf                     4.24.4\n",
      "psutil                       5.9.0\n",
      "pure-eval                    0.2.2\n",
      "pyarrow                      13.0.0\n",
      "pyasn1                       0.4.8\n",
      "pyasn1-modules               0.2.8\n",
      "pycparser                    2.21\n",
      "pydantic                     2.7.1\n",
      "pydantic_core                2.18.2\n",
      "pydeck                       0.8.1b0\n",
      "Pygments                     2.16.1\n",
      "PyJWT                        2.8.0\n",
      "pyOpenSSL                    23.2.0\n",
      "pyparsing                    3.1.2\n",
      "PySocks                      1.7.1\n",
      "python-dateutil              2.9.0.post0\n",
      "python-json-logger           2.0.7\n",
      "pytz                         2024.1\n",
      "pywin32                      305.1\n",
      "pywinpty                     2.0.10\n",
      "PyYAML                       6.0.1\n",
      "pyzmq                        25.1.2\n",
      "referencing                  0.30.2\n",
      "regex                        2023.10.3\n",
      "requests                     2.31.0\n",
      "requests-oauthlib            1.3.0\n",
      "responses                    0.13.3\n",
      "rfc3339-validator            0.1.4\n",
      "rfc3986-validator            0.1.1\n",
      "rich                         13.6.0\n",
      "rpds-py                      0.10.6\n",
      "rsa                          4.7.2\n",
      "safetensors                  0.3.2\n",
      "scipy                        1.13.0\n",
      "Send2Trash                   1.8.2\n",
      "setuptools                   69.5.1\n",
      "six                          1.16.0\n",
      "sniffio                      1.3.0\n",
      "soupsieve                    2.5\n",
      "SQLAlchemy                   2.0.30\n",
      "stack-data                   0.2.0\n",
      "streamlit                    1.27.2\n",
      "tenacity                     8.2.3\n",
      "tensorboard                  2.10.0\n",
      "tensorboard-data-server      0.6.1\n",
      "tensorboard-plugin-wit       1.8.1\n",
      "tensorflow                   2.10.0\n",
      "tensorflow-estimator         2.10.0\n",
      "termcolor                    2.1.0\n",
      "terminado                    0.17.1\n",
      "tinycss2                     1.2.1\n",
      "tokenizers                   0.13.3\n",
      "toml                         0.10.2\n",
      "tomli                        2.0.1\n",
      "toolz                        0.12.0\n",
      "tornado                      6.3.3\n",
      "tqdm                         4.66.4\n",
      "traitlets                    5.7.1\n",
      "transformers                 4.32.1\n",
      "typing_extensions            4.8.0\n",
      "typing-inspect               0.9.0\n",
      "tzdata                       2023.3\n",
      "tzlocal                      5.1\n",
      "uritemplate                  4.1.1\n",
      "urllib3                      2.0.6\n",
      "validators                   0.22.0\n",
      "watchdog                     3.0.0\n",
      "wcwidth                      0.2.5\n",
      "webencodings                 0.5.1\n",
      "websocket-client             1.8.0\n",
      "Werkzeug                     3.0.3\n",
      "wheel                        0.43.0\n",
      "win-inet-pton                1.1.0\n",
      "wrapt                        1.14.1\n",
      "xxhash                       2.0.2\n",
      "yarl                         1.9.3\n",
      "zipp                         3.17.0\n"
     ]
    }
   ],
   "source": [
    "!pip list"
   ]
  },
  {
   "cell_type": "code",
   "execution_count": null,
   "id": "9874c2f3-abf5-4a33-90cb-6bdddfb4a4cc",
   "metadata": {},
   "outputs": [],
   "source": [
    "import streamlit as st \n",
    "from langchain_community.llms import HuggingFaceEndpoint\n",
    "\n",
    "\n",
    "#function to return response\n",
    "def load_answer(question):\n",
    "    \n",
    "    # loading inference endpoint for any model\n",
    "    repo_id = \"mistralai/Mistral-7B-Instruct-v0.2\"\n",
    "\n",
    "    llm = HuggingFaceEndpoint(repo_id=repo_id)\n",
    "    result = llm.invoke(question)\n",
    "    return result\n",
    "\n",
    "#App UI here\n",
    "st.set_page_config(page_title='QA using Langchain', page_icon = \":robot:\")\n",
    "st.header('Question Answer Demo')\n",
    "\n",
    "# Get user input question\n",
    "def get_text():\n",
    "    input_text = st.text_input(\"Enter your question: \",key = 'input')\n",
    "    return input_text\n",
    "\n",
    "user_input = get_text()\n",
    "response = load_answer(user_input)"
   ]
  }
 ],
 "metadata": {
  "kernelspec": {
   "display_name": "Python 3 (ipykernel)",
   "language": "python",
   "name": "python3"
  },
  "language_info": {
   "codemirror_mode": {
    "name": "ipython",
    "version": 3
   },
   "file_extension": ".py",
   "mimetype": "text/x-python",
   "name": "python",
   "nbconvert_exporter": "python",
   "pygments_lexer": "ipython3",
   "version": "3.10.13"
  }
 },
 "nbformat": 4,
 "nbformat_minor": 5
}
