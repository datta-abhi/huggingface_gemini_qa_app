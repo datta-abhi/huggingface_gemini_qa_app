{
 "cells": [
  {
   "cell_type": "markdown",
   "id": "414bea3f-8d96-4d3e-889e-1b9c0c406d8b",
   "metadata": {},
   "source": [
    "## HuggingFace endpoint for Question Answers"
   ]
  },
  {
   "cell_type": "code",
   "execution_count": 1,
   "id": "1a0f6918-9319-4554-b81d-3d903e21fe9e",
   "metadata": {},
   "outputs": [],
   "source": [
    "from langchain_community.llms import HuggingFaceEndpoint"
   ]
  },
  {
   "cell_type": "code",
   "execution_count": 2,
   "id": "0c10563d-9e13-415d-830c-fa51af73138e",
   "metadata": {},
   "outputs": [
    {
     "name": "stdin",
     "output_type": "stream",
     "text": [
      " ········\n"
     ]
    }
   ],
   "source": [
    "# enter your access keys here\n",
    "\n",
    "from getpass import getpass\n",
    "\n",
    "HUGGINGFACEHUB_API_TOKEN = getpass()"
   ]
  },
  {
   "cell_type": "code",
   "execution_count": 3,
   "id": "f306ebcc-99c7-4a63-8bc1-21582785ce01",
   "metadata": {},
   "outputs": [],
   "source": [
    "import os\n",
    "\n",
    "os.environ[\"HUGGINGFACEHUB_API_TOKEN\"] = HUGGINGFACEHUB_API_TOKEN"
   ]
  },
  {
   "cell_type": "code",
   "execution_count": 4,
   "id": "a5e4fb1c-f3cf-4da6-9d20-a7548bff9242",
   "metadata": {},
   "outputs": [
    {
     "name": "stderr",
     "output_type": "stream",
     "text": [
      "C:\\Users\\abhid\\anaconda3\\envs\\langenv\\lib\\site-packages\\langchain_core\\_api\\deprecation.py:119: LangChainDeprecationWarning: The class `HuggingFaceEndpoint` was deprecated in LangChain 0.0.37 and will be removed in 0.3. An updated version of the class exists in the from langchain-huggingface package and should be used instead. To use it run `pip install -U from langchain-huggingface` and import as `from from langchain_huggingface import llms import HuggingFaceEndpoint`.\n",
      "  warn_deprecated(\n",
      "C:\\Users\\abhid\\anaconda3\\envs\\langenv\\lib\\site-packages\\tqdm\\auto.py:21: TqdmWarning: IProgress not found. Please update jupyter and ipywidgets. See https://ipywidgets.readthedocs.io/en/stable/user_install.html\n",
      "  from .autonotebook import tqdm as notebook_tqdm\n"
     ]
    },
    {
     "name": "stdout",
     "output_type": "stream",
     "text": [
      "The token has not been saved to the git credentials helper. Pass `add_to_git_credential=True` in this function directly or `--add-to-git-credential` if using via `huggingface-cli` if you want to set the git credential as well.\n",
      "Token is valid (permission: read).\n",
      "Your token has been saved to C:\\Users\\abhid\\.cache\\huggingface\\token\n",
      "Login successful\n"
     ]
    }
   ],
   "source": [
    "# loading inference endpoint for any model\n",
    "repo_id = \"mistralai/Mistral-7B-Instruct-v0.2\"\n",
    "\n",
    "llm = HuggingFaceEndpoint(repo_id=repo_id)"
   ]
  },
  {
   "cell_type": "code",
   "execution_count": 5,
   "id": "a0e6ab0b-7ac8-4dda-b044-4e7597d3e833",
   "metadata": {},
   "outputs": [
    {
     "name": "stdout",
     "output_type": "stream",
     "text": [
      "\n",
      "\n",
      "Freud (1856-1939) is considered the father of psychoanalysis. He introduced several fundamental concepts, including the unconscious mind, dream analysis, the Oedipus complex, and the psycho-sexual stages of development. He believed that early childhood experiences, especially those related to sexuality and the family, shape personality and behavior. Freud's theories were often controversial and provocative, and his methods, which included free association and the use of dreams, were groundbreaking. His work has had a profound impact on psychology, psychiatry, and Western culture as a whole. Freud's most famous works include \"The Interpretation of Dreams,\" \"Three Essays on Sexuality,\" and \"Civilization and Its Discontents.\"\n"
     ]
    }
   ],
   "source": [
    "# The LLM takes a prompt as an input and outputs a completion\n",
    "our_query = \"Describe Freud's work in short\"\n",
    "\n",
    "#Last week langchain has recommended to use invoke function for the below please :)\n",
    "completion = llm.invoke(our_query)\n",
    "print(completion)"
   ]
  },
  {
   "cell_type": "markdown",
   "id": "2f3dd9c9-e4e1-40f8-8d9b-3385e903e901",
   "metadata": {},
   "source": [
    "Gemini Pro for QA"
   ]
  },
  {
   "cell_type": "code",
   "execution_count": 6,
   "id": "805cece0-7d80-4d1e-933f-f31293902858",
   "metadata": {},
   "outputs": [
    {
     "name": "stdin",
     "output_type": "stream",
     "text": [
      " ········\n"
     ]
    }
   ],
   "source": [
    "# enter your access keys here\n",
    "\n",
    "from getpass import getpass\n",
    "\n",
    "GEMINI_API_TOKEN = getpass()\n",
    "\n",
    "import os\n",
    "os.environ[\"GOOGLE_API_KEY\"] = GEMINI_API_TOKEN"
   ]
  },
  {
   "cell_type": "code",
   "execution_count": 13,
   "id": "cc3997fc-0348-4255-b711-af4d9c1f6fd5",
   "metadata": {},
   "outputs": [],
   "source": [
    "# We can access Google AI’s gemini and gemini-vision models, as well as other generative models \n",
    "# through ChatGoogleGenerativeAI class in the langchain-google-genai integration package.\n",
    "\n",
    "from langchain_google_genai import ChatGoogleGenerativeAI\n",
    "llm = ChatGoogleGenerativeAI(model=\"gemini-pro\")"
   ]
  },
  {
   "cell_type": "code",
   "execution_count": 14,
   "id": "2fa6a5bd-c21f-455e-bddb-ea580a53057a",
   "metadata": {},
   "outputs": [
    {
     "name": "stdout",
     "output_type": "stream",
     "text": [
      "content='**Sigmund Freud (1856-1939)**\\n\\n**Key Contributions to Psychology:**\\n\\n**Psychoanalysis:**\\n- Developed a comprehensive theory of the human mind, emphasizing the role of unconscious processes.\\n- Believed that childhood experiences shape personality and behavior.\\n\\n**Unconscious Mind:**\\n- Recognized the existence of an unconscious realm containing thoughts, feelings, and memories that are inaccessible to conscious awareness.\\n- Proposed that unconscious conflicts drive much of human behavior.\\n\\n**Psychosexual Stages:**\\n- Formulated a theory of psychosexual development, with five stages (oral, anal, phallic, latency, genital) that influence personality traits.\\n\\n**Defense Mechanisms:**\\n- Identified defense mechanisms, such as repression, sublimation, and projection, that the ego uses to protect itself from anxiety and conflict.\\n\\n**Dream Analysis:**\\n- Believed that dreams provide insights into unconscious thoughts and desires.\\n- Developed techniques for interpreting dream symbols.\\n\\n**Free Association:**\\n- A therapeutic technique where patients say whatever comes to mind, allowing unconscious thoughts to emerge.\\n\\n**Influence on Psychology:**\\n- Revolutionized the field of psychology, profoundly shaping our understanding of the human mind and behavior.\\n- His theories continue to be influential in clinical practice, research, and popular culture.' response_metadata={'prompt_feedback': {'block_reason': 0, 'safety_ratings': []}, 'finish_reason': 'STOP', 'safety_ratings': [{'category': 'HARM_CATEGORY_SEXUALLY_EXPLICIT', 'probability': 'NEGLIGIBLE', 'blocked': False}, {'category': 'HARM_CATEGORY_HATE_SPEECH', 'probability': 'NEGLIGIBLE', 'blocked': False}, {'category': 'HARM_CATEGORY_HARASSMENT', 'probability': 'NEGLIGIBLE', 'blocked': False}, {'category': 'HARM_CATEGORY_DANGEROUS_CONTENT', 'probability': 'NEGLIGIBLE', 'blocked': False}]} id='run-8160519e-fefe-4e96-92eb-b8a270b6e453-0'\n"
     ]
    }
   ],
   "source": [
    "our_query = \"Desrcibe Freud's work in short\"\n",
    "\n",
    "result = llm.invoke(our_query)\n"
   ]
  },
  {
   "cell_type": "code",
   "execution_count": 15,
   "id": "bd744628-de4c-4730-84c7-c2924785639e",
   "metadata": {},
   "outputs": [
    {
     "name": "stdout",
     "output_type": "stream",
     "text": [
      "**Sigmund Freud (1856-1939)**\n",
      "\n",
      "**Key Contributions to Psychology:**\n",
      "\n",
      "**Psychoanalysis:**\n",
      "- Developed a comprehensive theory of the human mind, emphasizing the role of unconscious processes.\n",
      "- Believed that childhood experiences shape personality and behavior.\n",
      "\n",
      "**Unconscious Mind:**\n",
      "- Recognized the existence of an unconscious realm containing thoughts, feelings, and memories that are inaccessible to conscious awareness.\n",
      "- Proposed that unconscious conflicts drive much of human behavior.\n",
      "\n",
      "**Psychosexual Stages:**\n",
      "- Formulated a theory of psychosexual development, with five stages (oral, anal, phallic, latency, genital) that influence personality traits.\n",
      "\n",
      "**Defense Mechanisms:**\n",
      "- Identified defense mechanisms, such as repression, sublimation, and projection, that the ego uses to protect itself from anxiety and conflict.\n",
      "\n",
      "**Dream Analysis:**\n",
      "- Believed that dreams provide insights into unconscious thoughts and desires.\n",
      "- Developed techniques for interpreting dream symbols.\n",
      "\n",
      "**Free Association:**\n",
      "- A therapeutic technique where patients say whatever comes to mind, allowing unconscious thoughts to emerge.\n",
      "\n",
      "**Influence on Psychology:**\n",
      "- Revolutionized the field of psychology, profoundly shaping our understanding of the human mind and behavior.\n",
      "- His theories continue to be influential in clinical practice, research, and popular culture.\n"
     ]
    }
   ],
   "source": [
    "print(result.content)"
   ]
  },
  {
   "cell_type": "code",
   "execution_count": null,
   "id": "6bc8ac78-d954-4b22-b4d4-b8a51bb9b1c3",
   "metadata": {},
   "outputs": [],
   "source": []
  }
 ],
 "metadata": {
  "kernelspec": {
   "display_name": "Python 3 (ipykernel)",
   "language": "python",
   "name": "python3"
  },
  "language_info": {
   "codemirror_mode": {
    "name": "ipython",
    "version": 3
   },
   "file_extension": ".py",
   "mimetype": "text/x-python",
   "name": "python",
   "nbconvert_exporter": "python",
   "pygments_lexer": "ipython3",
   "version": "3.10.13"
  }
 },
 "nbformat": 4,
 "nbformat_minor": 5
}
